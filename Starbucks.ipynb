{
 "cells": [
  {
   "cell_type": "markdown",
   "metadata": {},
   "source": [
    "## Portfolio Exercise: Starbucks\n",
    "<br>\n",
    "\n",
    "<img src=\"https://opj.ca/wp-content/uploads/2018/02/New-Starbucks-Logo-1200x969.jpg\" width=\"200\" height=\"200\">\n",
    "<br>\n",
    "<br>\n",
    " \n",
    "#### Background Information\n",
    "\n",
    "The dataset you will be provided in this portfolio exercise was originally used as a take-home assignment provided by Starbucks for their job candidates. The data for this exercise consists of about 120,000 data points split in a 2:1 ratio among training and test files. In the experiment simulated by the data, an advertising promotion was tested to see if it would bring more customers to purchase a specific product priced at $10. Since it costs the company 0.15 to send out each promotion, it would be best to limit that promotion only to those that are most receptive to the promotion. Each data point includes one column indicating whether or not an individual was sent a promotion for the product, and one column indicating whether or not that individual eventually purchased that product. Each individual also has seven additional features associated with them, which are provided abstractly as V1-V7.\n",
    "\n",
    "#### Optimization Strategy\n",
    "\n",
    "Your task is to use the training data to understand what patterns in V1-V7 to indicate that a promotion should be provided to a user. Specifically, your goal is to maximize the following metrics:\n",
    "\n",
    "* **Incremental Response Rate (IRR)** \n",
    "\n",
    "IRR depicts how many more customers purchased the product with the promotion, as compared to if they didn't receive the promotion. Mathematically, it's the ratio of the number of purchasers in the promotion group to the total number of customers in the purchasers group (_treatment_) minus the ratio of the number of purchasers in the non-promotional group to the total number of customers in the non-promotional group (_control_).\n",
    "\n",
    "$$ IRR = \\frac{purch_{treat}}{cust_{treat}} - \\frac{purch_{ctrl}}{cust_{ctrl}} $$\n",
    "\n",
    "\n",
    "* **Net Incremental Revenue (NIR)**\n",
    "\n",
    "NIR depicts how much is made (or lost) by sending out the promotion. Mathematically, this is 10 times the total number of purchasers that received the promotion minus 0.15 times the number of promotions sent out, minus 10 times the number of purchasers who were not given the promotion.\n",
    "\n",
    "$$ NIR = (10\\cdot purch_{treat} - 0.15 \\cdot cust_{treat}) - 10 \\cdot purch_{ctrl}$$\n",
    "\n",
    "For a full description of what Starbucks provides to candidates see the [instructions available here](https://drive.google.com/open?id=18klca9Sef1Rs6q8DW4l7o349r8B70qXM).\n",
    "\n",
    "Below you can find the training data provided.  Explore the data and different optimization strategies.\n",
    "\n",
    "#### How To Test Your Strategy?\n",
    "\n",
    "When you feel like you have an optimization strategy, complete the `promotion_strategy` function to pass to the `test_results` function.  \n",
    "From past data, we know there are four possible outomes:\n",
    "\n",
    "Table of actual promotion vs. predicted promotion customers:  \n",
    "\n",
    "<table>\n",
    "<tr><th></th><th colspan = '2'>Actual</th></tr>\n",
    "<tr><th>Predicted</th><th>Yes</th><th>No</th></tr>\n",
    "<tr><th>Yes</th><td>I</td><td>II</td></tr>\n",
    "<tr><th>No</th><td>III</td><td>IV</td></tr>\n",
    "</table>\n",
    "\n",
    "The metrics are only being compared for the individuals we predict should obtain the promotion – that is, quadrants I and II.  Since the first set of individuals that receive the promotion (in the training set) receive it randomly, we can expect that quadrants I and II will have approximately equivalent participants.  \n",
    "\n",
    "Comparing quadrant I to II then gives an idea of how well your promotion strategy will work in the future. \n",
    "\n",
    "Get started by reading in the data below.  See how each variable or combination of variables along with a promotion influences the chance of purchasing.  When you feel like you have a strategy for who should receive a promotion, test your strategy against the test dataset used in the final `test_results` function."
   ]
  },
  {
   "cell_type": "code",
   "execution_count": 1,
   "metadata": {},
   "outputs": [
    {
     "data": {
      "text/html": [
       "<div>\n",
       "<style scoped>\n",
       "    .dataframe tbody tr th:only-of-type {\n",
       "        vertical-align: middle;\n",
       "    }\n",
       "\n",
       "    .dataframe tbody tr th {\n",
       "        vertical-align: top;\n",
       "    }\n",
       "\n",
       "    .dataframe thead th {\n",
       "        text-align: right;\n",
       "    }\n",
       "</style>\n",
       "<table border=\"1\" class=\"dataframe\">\n",
       "  <thead>\n",
       "    <tr style=\"text-align: right;\">\n",
       "      <th></th>\n",
       "      <th>ID</th>\n",
       "      <th>Promotion</th>\n",
       "      <th>purchase</th>\n",
       "      <th>V1</th>\n",
       "      <th>V2</th>\n",
       "      <th>V3</th>\n",
       "      <th>V4</th>\n",
       "      <th>V5</th>\n",
       "      <th>V6</th>\n",
       "      <th>V7</th>\n",
       "    </tr>\n",
       "  </thead>\n",
       "  <tbody>\n",
       "    <tr>\n",
       "      <th>0</th>\n",
       "      <td>1</td>\n",
       "      <td>No</td>\n",
       "      <td>0</td>\n",
       "      <td>2</td>\n",
       "      <td>30.443518</td>\n",
       "      <td>-1.165083</td>\n",
       "      <td>1</td>\n",
       "      <td>1</td>\n",
       "      <td>3</td>\n",
       "      <td>2</td>\n",
       "    </tr>\n",
       "    <tr>\n",
       "      <th>1</th>\n",
       "      <td>3</td>\n",
       "      <td>No</td>\n",
       "      <td>0</td>\n",
       "      <td>3</td>\n",
       "      <td>32.159350</td>\n",
       "      <td>-0.645617</td>\n",
       "      <td>2</td>\n",
       "      <td>3</td>\n",
       "      <td>2</td>\n",
       "      <td>2</td>\n",
       "    </tr>\n",
       "    <tr>\n",
       "      <th>2</th>\n",
       "      <td>4</td>\n",
       "      <td>No</td>\n",
       "      <td>0</td>\n",
       "      <td>2</td>\n",
       "      <td>30.431659</td>\n",
       "      <td>0.133583</td>\n",
       "      <td>1</td>\n",
       "      <td>1</td>\n",
       "      <td>4</td>\n",
       "      <td>2</td>\n",
       "    </tr>\n",
       "    <tr>\n",
       "      <th>3</th>\n",
       "      <td>5</td>\n",
       "      <td>No</td>\n",
       "      <td>0</td>\n",
       "      <td>0</td>\n",
       "      <td>26.588914</td>\n",
       "      <td>-0.212728</td>\n",
       "      <td>2</td>\n",
       "      <td>1</td>\n",
       "      <td>4</td>\n",
       "      <td>2</td>\n",
       "    </tr>\n",
       "    <tr>\n",
       "      <th>4</th>\n",
       "      <td>8</td>\n",
       "      <td>Yes</td>\n",
       "      <td>0</td>\n",
       "      <td>3</td>\n",
       "      <td>28.044332</td>\n",
       "      <td>-0.385883</td>\n",
       "      <td>1</td>\n",
       "      <td>1</td>\n",
       "      <td>2</td>\n",
       "      <td>2</td>\n",
       "    </tr>\n",
       "  </tbody>\n",
       "</table>\n",
       "</div>"
      ],
      "text/plain": [
       "   ID Promotion  purchase  V1         V2        V3  V4  V5  V6  V7\n",
       "0   1        No         0   2  30.443518 -1.165083   1   1   3   2\n",
       "1   3        No         0   3  32.159350 -0.645617   2   3   2   2\n",
       "2   4        No         0   2  30.431659  0.133583   1   1   4   2\n",
       "3   5        No         0   0  26.588914 -0.212728   2   1   4   2\n",
       "4   8       Yes         0   3  28.044332 -0.385883   1   1   2   2"
      ]
     },
     "execution_count": 1,
     "metadata": {},
     "output_type": "execute_result"
    }
   ],
   "source": [
    "# load in packages\n",
    "from itertools import combinations\n",
    "\n",
    "from test_results import test_results, score\n",
    "import numpy as np\n",
    "import pandas as pd\n",
    "import scipy as sp\n",
    "import sklearn as sk\n",
    "\n",
    "import matplotlib.pyplot as plt\n",
    "import seaborn as sb\n",
    "%matplotlib inline\n",
    "\n",
    "# load in the data\n",
    "train_data = pd.read_csv('./training.csv')\n",
    "train_data.head()"
   ]
  },
  {
   "cell_type": "code",
   "execution_count": 9,
   "metadata": {},
   "outputs": [
    {
     "name": "stdout",
     "output_type": "stream",
     "text": [
      "Nice job!  See how well your strategy worked on our test data below!\n",
      "\n",
      "Your irr with this strategy is 0.0097.\n",
      "\n",
      "Your nir with this strategy is -569.30.\n",
      "We came up with a model with an irr of 0.0188 and an nir of 189.45 on the test set.\n",
      "\n",
      " How did you do?\n"
     ]
    },
    {
     "data": {
      "text/plain": [
       "(0.0096542738385560836, -569.29999999999995)"
      ]
     },
     "execution_count": 9,
     "metadata": {},
     "output_type": "execute_result"
    }
   ],
   "source": [
    "def baseline(df):\n",
    "    '''\n",
    "    50% Yes and No assigned for comparison with implementation\n",
    "    '''\n",
    "    output_values = ['Yes', 'No']\n",
    "    output = []\n",
    "    for i in range(len(df)):\n",
    "        rand = np.random.randint(0,2)\n",
    "        output.append(output_values[rand])\n",
    "\n",
    "    return np.asarray(output)\n",
    "\n",
    "test_results(baseline)"
   ]
  },
  {
   "cell_type": "code",
   "execution_count": 10,
   "metadata": {},
   "outputs": [
    {
     "data": {
      "text/plain": [
       "ID           0\n",
       "Promotion    0\n",
       "purchase     0\n",
       "V1           0\n",
       "V2           0\n",
       "V3           0\n",
       "V4           0\n",
       "V5           0\n",
       "V6           0\n",
       "V7           0\n",
       "dtype: int64"
      ]
     },
     "execution_count": 10,
     "metadata": {},
     "output_type": "execute_result"
    }
   ],
   "source": [
    "#check null values\n",
    "train_data.isnull().sum()"
   ]
  },
  {
   "cell_type": "code",
   "execution_count": 12,
   "metadata": {},
   "outputs": [
    {
     "data": {
      "text/html": [
       "<div>\n",
       "<style scoped>\n",
       "    .dataframe tbody tr th:only-of-type {\n",
       "        vertical-align: middle;\n",
       "    }\n",
       "\n",
       "    .dataframe tbody tr th {\n",
       "        vertical-align: top;\n",
       "    }\n",
       "\n",
       "    .dataframe thead th {\n",
       "        text-align: right;\n",
       "    }\n",
       "</style>\n",
       "<table border=\"1\" class=\"dataframe\">\n",
       "  <thead>\n",
       "    <tr style=\"text-align: right;\">\n",
       "      <th></th>\n",
       "      <th>V1</th>\n",
       "      <th>V2</th>\n",
       "      <th>V3</th>\n",
       "      <th>V4</th>\n",
       "      <th>V5</th>\n",
       "      <th>V6</th>\n",
       "      <th>V7</th>\n",
       "    </tr>\n",
       "  </thead>\n",
       "  <tbody>\n",
       "    <tr>\n",
       "      <th>count</th>\n",
       "      <td>84534.000000</td>\n",
       "      <td>84534.000000</td>\n",
       "      <td>84534.000000</td>\n",
       "      <td>84534.000000</td>\n",
       "      <td>84534.000000</td>\n",
       "      <td>84534.000000</td>\n",
       "      <td>84534.000000</td>\n",
       "    </tr>\n",
       "    <tr>\n",
       "      <th>mean</th>\n",
       "      <td>1.500662</td>\n",
       "      <td>29.973600</td>\n",
       "      <td>0.000190</td>\n",
       "      <td>1.679608</td>\n",
       "      <td>2.327643</td>\n",
       "      <td>2.502898</td>\n",
       "      <td>1.701694</td>\n",
       "    </tr>\n",
       "    <tr>\n",
       "      <th>std</th>\n",
       "      <td>0.868234</td>\n",
       "      <td>5.010626</td>\n",
       "      <td>1.000485</td>\n",
       "      <td>0.466630</td>\n",
       "      <td>0.841167</td>\n",
       "      <td>1.117349</td>\n",
       "      <td>0.457517</td>\n",
       "    </tr>\n",
       "    <tr>\n",
       "      <th>min</th>\n",
       "      <td>0.000000</td>\n",
       "      <td>7.104007</td>\n",
       "      <td>-1.684550</td>\n",
       "      <td>1.000000</td>\n",
       "      <td>1.000000</td>\n",
       "      <td>1.000000</td>\n",
       "      <td>1.000000</td>\n",
       "    </tr>\n",
       "    <tr>\n",
       "      <th>25%</th>\n",
       "      <td>1.000000</td>\n",
       "      <td>26.591501</td>\n",
       "      <td>-0.905350</td>\n",
       "      <td>1.000000</td>\n",
       "      <td>2.000000</td>\n",
       "      <td>2.000000</td>\n",
       "      <td>1.000000</td>\n",
       "    </tr>\n",
       "    <tr>\n",
       "      <th>50%</th>\n",
       "      <td>2.000000</td>\n",
       "      <td>29.979744</td>\n",
       "      <td>-0.039572</td>\n",
       "      <td>2.000000</td>\n",
       "      <td>2.000000</td>\n",
       "      <td>3.000000</td>\n",
       "      <td>2.000000</td>\n",
       "    </tr>\n",
       "    <tr>\n",
       "      <th>75%</th>\n",
       "      <td>2.000000</td>\n",
       "      <td>33.344593</td>\n",
       "      <td>0.826206</td>\n",
       "      <td>2.000000</td>\n",
       "      <td>3.000000</td>\n",
       "      <td>4.000000</td>\n",
       "      <td>2.000000</td>\n",
       "    </tr>\n",
       "    <tr>\n",
       "      <th>max</th>\n",
       "      <td>3.000000</td>\n",
       "      <td>50.375913</td>\n",
       "      <td>1.691984</td>\n",
       "      <td>2.000000</td>\n",
       "      <td>4.000000</td>\n",
       "      <td>4.000000</td>\n",
       "      <td>2.000000</td>\n",
       "    </tr>\n",
       "  </tbody>\n",
       "</table>\n",
       "</div>"
      ],
      "text/plain": [
       "                 V1            V2            V3            V4            V5  \\\n",
       "count  84534.000000  84534.000000  84534.000000  84534.000000  84534.000000   \n",
       "mean       1.500662     29.973600      0.000190      1.679608      2.327643   \n",
       "std        0.868234      5.010626      1.000485      0.466630      0.841167   \n",
       "min        0.000000      7.104007     -1.684550      1.000000      1.000000   \n",
       "25%        1.000000     26.591501     -0.905350      1.000000      2.000000   \n",
       "50%        2.000000     29.979744     -0.039572      2.000000      2.000000   \n",
       "75%        2.000000     33.344593      0.826206      2.000000      3.000000   \n",
       "max        3.000000     50.375913      1.691984      2.000000      4.000000   \n",
       "\n",
       "                 V6            V7  \n",
       "count  84534.000000  84534.000000  \n",
       "mean       2.502898      1.701694  \n",
       "std        1.117349      0.457517  \n",
       "min        1.000000      1.000000  \n",
       "25%        2.000000      1.000000  \n",
       "50%        3.000000      2.000000  \n",
       "75%        4.000000      2.000000  \n",
       "max        4.000000      2.000000  "
      ]
     },
     "execution_count": 12,
     "metadata": {},
     "output_type": "execute_result"
    }
   ],
   "source": [
    "#explore data\n",
    "features = train_data[['V1', 'V2', 'V3', 'V4', 'V5', 'V6', 'V7']]\n",
    "features.describe()"
   ]
  },
  {
   "cell_type": "code",
   "execution_count": 14,
   "metadata": {},
   "outputs": [
    {
     "data": {
      "image/png": "[encoded data removed]",
      "text/plain": [
       "<matplotlib.figure.Figure at 0x7f12b83782b0>"
      ]
     },
     "metadata": {
      "needs_background": "light"
     },
     "output_type": "display_data"
    },
    {
     "data": {
      "image/png": "[encoded data removed]",
      "text/plain": [
       "<matplotlib.figure.Figure at 0x7f12b82bc6d8>"
      ]
     },
     "metadata": {
      "needs_background": "light"
     },
     "output_type": "display_data"
    },
    {
     "data": {
      "image/png": "[encoded data removed]",
      "text/plain": [
       "<matplotlib.figure.Figure at 0x7f12b8242668>"
      ]
     },
     "metadata": {
      "needs_background": "light"
     },
     "output_type": "display_data"
    },
    {
     "data": {
      "image/png": "[encoded data removed]",
      "text/plain": [
       "<matplotlib.figure.Figure at 0x7f12b8362908>"
      ]
     },
     "metadata": {
      "needs_background": "light"
     },
     "output_type": "display_data"
    },
    {
     "data": {
      "image/png": "[encoded data removed]",
      "text/plain": [
       "<matplotlib.figure.Figure at 0x7f12b80d9eb8>"
      ]
     },
     "metadata": {
      "needs_background": "light"
     },
     "output_type": "display_data"
    },
    {
     "data": {
      "image/png": "[encoded data removed]",
      "text/plain": [
       "<matplotlib.figure.Figure at 0x7f12b8094ac8>"
      ]
     },
     "metadata": {
      "needs_background": "light"
     },
     "output_type": "display_data"
    },
    {
     "data": {
      "image/png": "[encoded data removed]",
      "text/plain": [
       "<matplotlib.figure.Figure at 0x7f12b1781c88>"
      ]
     },
     "metadata": {
      "needs_background": "light"
     },
     "output_type": "display_data"
    }
   ],
   "source": [
    "#Plot distributions of all features\n",
    "for f in features.columns:\n",
    "    plt.hist(features[f])\n",
    "    plt.title('{}'. format(f))\n",
    "    plt.show()"
   ]
  },
  {
   "cell_type": "code",
   "execution_count": 15,
   "metadata": {},
   "outputs": [
    {
     "data": {
      "text/plain": [
       "Index(['ID', 'Promotion', 'purchase', 'V2', 'V3', 'V1_0', 'V1_1', 'V1_2',\n",
       "       'V1_3', 'V4_1', 'V4_2', 'V5_1', 'V5_2', 'V5_3', 'V5_4', 'V6_1', 'V6_2',\n",
       "       'V6_3', 'V6_4', 'V7_1', 'V7_2'],\n",
       "      dtype='object')"
      ]
     },
     "execution_count": 15,
     "metadata": {},
     "output_type": "execute_result"
    }
   ],
   "source": [
    "#Convert categoricals to dummy numerics\n",
    "dummies = pd.get_dummies(train_data, columns = ['V1', 'V4', 'V5', 'V6', 'V7'])\n",
    "dummies.columns"
   ]
  },
  {
   "cell_type": "code",
   "execution_count": 16,
   "metadata": {},
   "outputs": [
    {
     "data": {
      "text/plain": [
       "Yes    42364\n",
       "No     42170\n",
       "Name: Promotion, dtype: int64"
      ]
     },
     "execution_count": 16,
     "metadata": {},
     "output_type": "execute_result"
    }
   ],
   "source": [
    "dummies.Promotion.value_counts()"
   ]
  },
  {
   "cell_type": "code",
   "execution_count": 19,
   "metadata": {},
   "outputs": [
    {
     "name": "stdout",
     "output_type": "stream",
     "text": [
      "...\n",
      "mean = 42267.0 \n",
      "std = 145.3736564856233 \n",
      "z-score = -0.6638066506192843 \n",
      "p-value = 0.5068140685419046\n",
      "Fail to Reject. Balanced\n"
     ]
    }
   ],
   "source": [
    "#Test to check statistical significance of control and experiment groups from a 50-50 split\n",
    "def promo_test_50split(df, feature):\n",
    "    treat = df[df.Promotion == 'Yes'][feature]\n",
    "    cont = df[df.Promotion == 'No'][feature]\n",
    "    n_total = len(treat) + len(cont)\n",
    "    p =0.5\n",
    "    mu = p * n_total\n",
    "    sd = np.sqrt(p*(1-p)*n_total)\n",
    "    n_cont = len(cont)\n",
    "    z = ((n_cont + 0.5) - n_total*p)/np.sqrt(n_total*p*(1-p))\n",
    "    p_value = 2*sp.stats.norm.cdf(z)\n",
    "    print(\"...\\nmean = {} \\nstd = {} \\nz-score = {} \\np-value = {}\".format(mu,sd,z,p_value))\n",
    "    if p_value >=0.05:\n",
    "        print(\"Fail to Reject. Balanced\")\n",
    "    else:\n",
    "        print(\"Not a reasonable split\")\n",
    "\n",
    "promo_test_50split(dummies, 'Promotion')"
   ]
  },
  {
   "cell_type": "code",
   "execution_count": 21,
   "metadata": {},
   "outputs": [
    {
     "name": "stdout",
     "output_type": "stream",
     "text": [
      "...\n",
      "mean = 5312.5 \n",
      "std = 51.53882032022076 \n",
      "z-score = 0.5820855000871992 \n",
      "p-value = 1.4394909085614855\n",
      "Fail to Reject. Balanced\n",
      "...\n",
      "mean = 15815.5 \n",
      "std = 88.92553064221771 \n",
      "z-score = 0.2698887465351364 \n",
      "p-value = 1.212754155003\n",
      "Fail to Reject. Balanced\n",
      "...\n",
      "mean = 15804.0 \n",
      "std = 88.89319434017432 \n",
      "z-score = -1.0743229637416665 \n",
      "p-value = 0.28267795627902925\n",
      "Fail to Reject. Balanced\n",
      "...\n",
      "mean = 5335.0 \n",
      "std = 51.647846034466916 \n",
      "z-score = -1.035861204440105 \n",
      "p-value = 0.3002668990500855\n",
      "Fail to Reject. Balanced\n",
      "...\n",
      "mean = 13542.0 \n",
      "std = 82.28608630868283 \n",
      "z-score = -0.7109342857861388 \n",
      "p-value = 0.4771249585482401\n",
      "Fail to Reject. Balanced\n",
      "...\n",
      "mean = 28725.0 \n",
      "std = 119.84364814206884 \n",
      "z-score = -0.31290769749887426 \n",
      "p-value = 0.7543507892863371\n",
      "Fail to Reject. Balanced\n",
      "...\n",
      "mean = 7706.0 \n",
      "std = 62.07253821135398 \n",
      "z-score = -1.1357679584480809 \n",
      "p-value = 0.25605369028291614\n",
      "Fail to Reject. Balanced\n",
      "...\n",
      "mean = 15598.0 \n",
      "std = 88.31194709664146 \n",
      "z-score = 0.10757321418362532 \n",
      "p-value = 1.0856657543504327\n",
      "Fail to Reject. Balanced\n",
      "...\n",
      "mean = 16371.5 \n",
      "std = 90.47513470561954 \n",
      "z-score = -1.0279067315301122 \n",
      "p-value = 0.3039937027787475\n",
      "Fail to Reject. Balanced\n",
      "...\n",
      "mean = 2591.5 \n",
      "std = 35.99652761031264 \n",
      "z-score = 1.6390469836067494 \n",
      "p-value = 1.898796524893392\n",
      "Fail to Reject. Balanced\n",
      "...\n",
      "mean = 10513.0 \n",
      "std = 72.50172411743047 \n",
      "z-score = -0.06206748949461375 \n",
      "p-value = 0.9505090866877395\n",
      "Fail to Reject. Balanced\n",
      "...\n",
      "mean = 10573.0 \n",
      "std = 72.70832139445939 \n",
      "z-score = -0.29570205428560986 \n",
      "p-value = 0.767457628219126\n",
      "Fail to Reject. Balanced\n",
      "...\n",
      "mean = 10593.0 \n",
      "std = 72.77705682424921 \n",
      "z-score = -0.40534752691689835 \n",
      "p-value = 0.6852220759707862\n",
      "Fail to Reject. Balanced\n",
      "...\n",
      "mean = 10588.0 \n",
      "std = 72.75987905432498 \n",
      "z-score = -0.5428816060910157 \n",
      "p-value = 0.5872113212248976\n",
      "Fail to Reject. Balanced\n",
      "...\n",
      "mean = 12608.5 \n",
      "std = 79.3993073017643 \n",
      "z-score = -0.6297284157652717 \n",
      "p-value = 0.5288722877495363\n",
      "Fail to Reject. Balanced\n",
      "...\n",
      "mean = 29658.5 \n",
      "std = 121.77540802641558 \n",
      "z-score = -0.3777445770497575 \n",
      "p-value = 0.7056203493447164\n",
      "Fail to Reject. Balanced\n"
     ]
    }
   ],
   "source": [
    "list_of_features = ['V1_0', 'V1_1', 'V1_2', 'V1_3', 'V4_1', 'V4_2',\n",
    "                    'V5_1', 'V5_2', 'V5_3', 'V5_4', 'V6_1', 'V6_2',\n",
    "                    'V6_3', 'V6_4', 'V7_1', 'V7_2']\n",
    "\n",
    "for f in list_of_features:\n",
    "    df = dummies[dummies[f] == 1]\n",
    "    promo_test_50split(df, f)"
   ]
  },
  {
   "cell_type": "markdown",
   "metadata": {},
   "source": [
    "All the categorical features seem to be balanced."
   ]
  },
  {
   "cell_type": "code",
   "execution_count": 37,
   "metadata": {},
   "outputs": [],
   "source": [
    "#test if promotion led to increase in purchase within each group\n",
    "p_null = dummies.purchase.mean()\n",
    "\n",
    "def exp_sig_test(df, col):\n",
    "    n_total = len(df)\n",
    "    n_cont = float(len(df[df.Promotion == 'No']))\n",
    "    n_exp = float(len(df[df.Promotion == 'Yes']))\n",
    "    mean_purchases = df.groupby('Promotion').mean()['purchase']\n",
    "    \n",
    "    se_p = np.sqrt(p_null*(1-p_null)*(1/n_cont + 1/n_exp))\n",
    "    \n",
    "    z = (mean_purchases[1] - mean_purchases[0])/se_p\n",
    "    \n",
    "    p_val = 1- sp.stats.norm.cdf(z)\n",
    "    print('Feature: {} \\np-value: {}'.format(col, p_val))\n",
    "    if p_val >= 0.05:\n",
    "        print(\"\\n Promotion not significant enough\")"
   ]
  },
  {
   "cell_type": "code",
   "execution_count": 38,
   "metadata": {},
   "outputs": [],
   "source": [
    "#IIR and NIR for each group\n",
    "def IIR(p_treat, p_cont, num_treat, num_cont):\n",
    "    print('IIR: {}'.format((p_treat/num_treat) - (p_cont/num_cont)))\n",
    "\n",
    "def NIR(p_treat, num_treat, p_cont):\n",
    "    print('NIR: {}'.format((10*p_treat - 0.15*num_treat) - 10*p_cont))"
   ]
  },
  {
   "cell_type": "code",
   "execution_count": 41,
   "metadata": {},
   "outputs": [
    {
     "name": "stdout",
     "output_type": "stream",
     "text": [
      "Feature: V1_0 \n",
      "p-value: 1.1580656755771912e-07\n",
      "Treatment group purchases: 98\n",
      "Control group purchases: 40\n",
      "IIR: 0.011062233977679515\n",
      "NIR: -212.44999999999993\n",
      "\n",
      "\n",
      "Feature: V1_1 \n",
      "p-value: 2.5423759764109377e-09\n",
      "Treatment group purchases: 252\n",
      "Control group purchases: 138\n",
      "IIR: 0.007244775554012248\n",
      "NIR: -1228.7999999999997\n",
      "\n",
      "\n",
      "Feature: V1_2 \n",
      "p-value: 0.0\n",
      "Treatment group purchases: 302\n",
      "Control group purchases: 103\n",
      "IIR: 0.012436542369949698\n",
      "NIR: -395.0\n",
      "\n",
      "\n",
      "Feature: V1_3 \n",
      "p-value: 0.00430059367142277\n",
      "Treatment group purchases: 69\n",
      "Control group purchases: 38\n",
      "IIR: 0.005608252821598726\n",
      "NIR: -498.35\n",
      "\n",
      "\n",
      "Feature: V4_1 \n",
      "p-value: 0.5838376467524564\n",
      "\n",
      " Promotion not significant enough\n",
      "Treatment group purchases: 95\n",
      "Control group purchases: 98\n",
      "IIR: -0.0002836315436208197\n",
      "NIR: -2070.1499999999996\n",
      "\n",
      "\n",
      "Feature: V4_2 \n",
      "p-value: 0.0\n",
      "Treatment group purchases: 626\n",
      "Control group purchases: 221\n",
      "IIR: 0.01406023392253487\n",
      "NIR: -264.4499999999998\n",
      "\n",
      "\n",
      "Feature: V5_1 \n",
      "p-value: 2.5202062658991053e-14\n",
      "Treatment group purchases: 158\n",
      "Control group purchases: 53\n",
      "IIR: 0.013374601563440093\n",
      "NIR: -116.54999999999995\n",
      "\n",
      "\n",
      "Feature: V5_2 \n",
      "p-value: 0.022140228408553786\n",
      "Treatment group purchases: 160\n",
      "Control group purchases: 121\n",
      "IIR: 0.002510716066764067\n",
      "NIR: -1948.35\n",
      "\n",
      "\n",
      "Feature: V5_3 \n",
      "p-value: 0.0\n",
      "Treatment group purchases: 360\n",
      "Control group purchases: 123\n",
      "IIR: 0.01430835035369176\n",
      "NIR: -99.75\n",
      "\n",
      "\n",
      "Feature: V5_4 \n",
      "p-value: 0.002314554689456405\n",
      "Treatment group purchases: 43\n",
      "Control group purchases: 22\n",
      "IIR: 0.008674031091479267\n",
      "NIR: -169.95\n",
      "\n",
      "\n",
      "Feature: V6_1 \n",
      "p-value: 1.2878587085651816e-12\n",
      "Treatment group purchases: 187\n",
      "Control group purchases: 75\n",
      "IIR: 0.01064162633665217\n",
      "NIR: -457.70000000000005\n",
      "\n",
      "\n",
      "Feature: V6_2 \n",
      "p-value: 2.590409822200712e-07\n",
      "Treatment group purchases: 170\n",
      "Control group purchases: 89\n",
      "IIR: 0.007610084978380253\n",
      "NIR: -779.25\n",
      "\n",
      "\n",
      "Feature: V6_3 \n",
      "p-value: 3.195999020988438e-12\n",
      "Treatment group purchases: 190\n",
      "Control group purchases: 79\n",
      "IIR: 0.010406783756518727\n",
      "NIR: -483.45000000000005\n",
      "\n",
      "\n",
      "Feature: V6_4 \n",
      "p-value: 7.221538922408399e-10\n",
      "Treatment group purchases: 174\n",
      "Control group purchases: 76\n",
      "IIR: 0.009166690573008613\n",
      "NIR: -614.2\n",
      "\n",
      "\n",
      "Feature: V7_1 \n",
      "p-value: 6.661338147750939e-16\n",
      "Treatment group purchases: 228\n",
      "Control group purchases: 87\n",
      "IIR: 0.011083046581076854\n",
      "NIR: -488.8499999999999\n",
      "\n",
      "\n",
      "Feature: V7_2 \n",
      "p-value: 0.0\n",
      "Treatment group purchases: 493\n",
      "Control group purchases: 232\n",
      "IIR: 0.008761870946608281\n",
      "NIR: -1845.75\n",
      "\n",
      "\n"
     ]
    }
   ],
   "source": [
    "for col in list_of_features:\n",
    "    df1= dummies[dummies[col] == 1]\n",
    "    exp_sig_test(df1, col)\n",
    "    p_treat = df1[df1.Promotion == 'Yes'].sum()['purchase']\n",
    "    print('Treatment group purchases: {}'.format(p_treat))\n",
    "    p_cont = df1[df1.Promotion == 'No'].sum()['purchase']\n",
    "    print('Control group purchases: {}'.format(p_cont))\n",
    "    num_treat = len(df1[df1.Promotion == 'Yes'])\n",
    "    num_cont = len(df1[df1.Promotion == 'No'])\n",
    "    IIR(p_treat, p_cont, num_treat, num_cont)\n",
    "    NIR(p_treat, num_treat, p_cont)\n",
    "    print(\"\\n\")"
   ]
  },
  {
   "cell_type": "markdown",
   "metadata": {},
   "source": [
    "Failed to reject promotion V4_2. \n",
    "Probably need to look into interactions between groups rather than looking at individual promotions.\n",
    "\n",
    "Based on the results, \n",
    "Assigning \"yes\" to V1: 0,2; V4: 2; V5: 1,3\n",
    "\n",
    "Also going to check population size to check if its large enough for stat-sig. "
   ]
  },
  {
   "cell_type": "code",
   "execution_count": 42,
   "metadata": {},
   "outputs": [],
   "source": [
    "def promotion_strategy(df):\n",
    "    '''\n",
    "    INPUT \n",
    "    df - a dataframe with *only* the columns V1 - V7 (same as train_data)\n",
    "\n",
    "    OUTPUT\n",
    "    promotion_df - np.array with the values\n",
    "                   'Yes' or 'No' related to whether or not an \n",
    "                   individual should recieve a promotion \n",
    "                   should be the length of df.shape[0]\n",
    "                \n",
    "    Ex:\n",
    "    INPUT: df\n",
    "    \n",
    "    V1\tV2\t  V3\tV4\tV5\tV6\tV7\n",
    "    2\t30\t-1.1\t1\t1\t3\t2\n",
    "    3\t32\t-0.6\t2\t3\t2\t2\n",
    "    2\t30\t0.13\t1\t1\t4\t2\n",
    "    \n",
    "    OUTPUT: promotion\n",
    "    \n",
    "    array(['Yes', 'Yes', 'No'])\n",
    "    indicating the first two users would recieve the promotion and \n",
    "    the last should not.\n",
    "    '''\n",
    "    promotion_df = []\n",
    "    size = 1\n",
    "    for i, row in df.iterrows():\n",
    "        if row['V1'] == 0 or row['V1'] == 2:\n",
    "            if row['V4'] == 2:\n",
    "                if row['V5'] == 1 or row['V5'] == 3:\n",
    "                    promotion_df.append('Yes')\n",
    "                    size +=1\n",
    "                else:\n",
    "                    promotion_df.append('No')\n",
    "            else:\n",
    "                promotion_df.append('No')\n",
    "        else:\n",
    "            promotion_df.append('No')\n",
    "    \n",
    "    promotion_df = np.asarray(promotion_df)\n",
    "    \n",
    "    print(\"Size of Promotion population: {}\".format(size))\n",
    "    \n",
    "    return promotion_df"
   ]
  },
  {
   "cell_type": "code",
   "execution_count": 43,
   "metadata": {},
   "outputs": [
    {
     "name": "stdout",
     "output_type": "stream",
     "text": [
      "Size of Promotion population: 8017\n",
      "Nice job!  See how well your strategy worked on our test data below!\n",
      "\n",
      "Your irr with this strategy is 0.0228.\n",
      "\n",
      "Your nir with this strategy is 298.10.\n",
      "We came up with a model with an irr of 0.0188 and an nir of 189.45 on the test set.\n",
      "\n",
      " How did you do?\n"
     ]
    },
    {
     "data": {
      "text/plain": [
       "(0.022793834704630447, 298.10000000000002)"
      ]
     },
     "execution_count": 43,
     "metadata": {},
     "output_type": "execute_result"
    }
   ],
   "source": [
    "# This will test your results, and provide you back some information \n",
    "# on how well your promotion_strategy will work in practice\n",
    "\n",
    "test_results(promotion_strategy)"
   ]
  },
  {
   "cell_type": "markdown",
   "metadata": {},
   "source": [
    "These IRR and NIR results are significantly higher than Udacity's model."
   ]
  }
 ],
 "metadata": {
  "kernelspec": {
   "display_name": "Python 3",
   "language": "python",
   "name": "python3"
  },
  "language_info": {
   "codemirror_mode": {
    "name": "ipython",
    "version": 3
   },
   "file_extension": ".py",
   "mimetype": "text/x-python",
   "name": "python",
   "nbconvert_exporter": "python",
   "pygments_lexer": "ipython3",
   "version": "3.6.3"
  }
 },
 "nbformat": 4,
 "nbformat_minor": 2
}
